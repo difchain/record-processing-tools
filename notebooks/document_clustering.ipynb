{
 "cells": [
  {
   "cell_type": "markdown",
   "metadata": {},
   "source": [
    "# Document Clustering\n",
    "\n",
    "This notebook demonstrates a relatively simple approach to automated record clustering based on keywords contents.\n",
    "\n",
    "The purpose of the notebook is to:\n",
    " * demonstrate use of record management APIs\n",
    " * show that it is practical to use machine learning algorithms to automatically discover document clusters\n",
    " * provide refernce implementation that could be enhanced\n",
    " * generate a model that can subsequently be used to demonstration of automatic record classification\n",
    "\n",
    "In a production system, unsupervised clustering techniques such as this would probably be used in an ensemble with ontology-based classification as well as supervised learning of labels that have been applied by human record mangers to a reference set."
   ]
  },
  {
   "cell_type": "code",
   "execution_count": 1,
   "metadata": {},
   "outputs": [],
   "source": [
    "# Import all the packages to be used\n",
    "from sklearn.feature_extraction.text import TfidfVectorizer\n",
    "from sklearn.cluster import KMeans\n",
    "import pandas as pd"
   ]
  },
  {
   "cell_type": "markdown",
   "metadata": {},
   "source": [
    "### Fetching data from the API\n",
    "\n",
    "The first step in this recipie is to fetch data from the search API (due to a small current bug, we are actually using the raw elasticsearch API behind the Platform Search API.\n",
    "\n",
    "This code is wrapped in a class with two main methods -- `get_total()` and `get_records()`."
   ]
  },
  {
   "cell_type": "code",
   "execution_count": 2,
   "metadata": {},
   "outputs": [],
   "source": [
    "import requests\n",
    "\n",
    "class SearchInterface(object):\n",
    "    \n",
    "    def __init__(self):\n",
    "        self.base_url = 'https://digitalrecords.showthething.com/api/search/v0/records/'\n",
    "        self.get_total()\n",
    "        \n",
    "    def get_total(self):\n",
    "        \"\"\" Gets the total number of records that match the query \"\"\"\n",
    "        resp = self._fetch_batch(0, limit=1)\n",
    "        data = resp.json()\n",
    "        self.total = data['hits']['count']\n",
    "        \n",
    "    def _fetch_batch(self, offset, limit=1000):\n",
    "        # The `exists`: `keywords` params makes sure that only those records with\n",
    "        # keywords are fetched from the database\n",
    "        params = {'limit': limit, 'offset': offset, 'exists': 'keywords'}\n",
    "        resp = requests.get(self.base_url, params=params)\n",
    "        return resp\n",
    "    \n",
    "    def get_records(self, test_run=False):\n",
    "        print('Total matches: %s' % self.total)\n",
    "        if test_run:\n",
    "            # We just limit to the 10,000 records for the test run\n",
    "            records_num = 10000\n",
    "            print('Total records to fetch: %s (TEST RUN)' % records_num)\n",
    "        else:\n",
    "            records_num = self.total\n",
    "            print('Total records to fetch: %s' % records_num)\n",
    "        results = []\n",
    "        batches = range(0, self.total, 1000)\n",
    "        print('\\nNow fetching records from ES...')\n",
    "        for batch_offset in batches:\n",
    "            fetch_count = batch_offset + 1000\n",
    "            if fetch_count <= records_num:\n",
    "                resp = self._fetch_batch(batch_offset)\n",
    "                if resp.status_code == 200:\n",
    "                    data = resp.json()\n",
    "                    results += data['hits']['results']\n",
    "                else:\n",
    "                    raise Exception('Error fetching records from the server!')\n",
    "                print(' - Fetched %s records out of %s' % (fetch_count, records_num))\n",
    "            else:\n",
    "                break\n",
    "        print('Finished fetching records from ES\\n')\n",
    "        return results"
   ]
  },
  {
   "cell_type": "markdown",
   "metadata": {},
   "source": [
    "This class can now be used to access metadata from the API. This is currently the slowest part of the process, even with the `test_run=True` parameter limiting it to 50,000 records. The approach of pulling keyword metadata down to a script works for hundreds of thousands of millions of records, but becomes impractical for tens or hundreds of millions of records. Future implementations should use a \"send the code to the data (not the data to the code)\" type of approach, such as map-reduce. "
   ]
  },
  {
   "cell_type": "code",
   "execution_count": 3,
   "metadata": {},
   "outputs": [
    {
     "name": "stdout",
     "output_type": "stream",
     "text": [
      "Total matches: 16899620\n",
      "Total records to fetch: 10000 (TEST RUN)\n",
      "\n",
      "Now fetching records from ES...\n",
      " - Fetched 1000 records out of 10000\n",
      " - Fetched 2000 records out of 10000\n",
      " - Fetched 3000 records out of 10000\n",
      " - Fetched 4000 records out of 10000\n",
      " - Fetched 5000 records out of 10000\n",
      " - Fetched 6000 records out of 10000\n",
      " - Fetched 7000 records out of 10000\n",
      " - Fetched 8000 records out of 10000\n",
      " - Fetched 9000 records out of 10000\n",
      " - Fetched 10000 records out of 10000\n",
      "Finished fetching records from ES\n",
      "\n"
     ]
    }
   ],
   "source": [
    "# Fetch the records in test_run mode, which means it will only get 10,000 matching records\n",
    "search = SearchInterface()\n",
    "records = search.get_records(test_run=True)"
   ]
  },
  {
   "cell_type": "markdown",
   "metadata": {},
   "source": [
    "As usual, the data needs to be cleaned up a little bit before it can be used."
   ]
  },
  {
   "cell_type": "code",
   "execution_count": 4,
   "metadata": {
    "scrolled": true
   },
   "outputs": [
    {
     "data": {
      "text/html": [
       "<div>\n",
       "<style>\n",
       "    .dataframe thead tr:only-child th {\n",
       "        text-align: right;\n",
       "    }\n",
       "\n",
       "    .dataframe thead th {\n",
       "        text-align: left;\n",
       "    }\n",
       "\n",
       "    .dataframe tbody tr th {\n",
       "        vertical-align: top;\n",
       "    }\n",
       "</style>\n",
       "<table border=\"1\" class=\"dataframe\">\n",
       "  <thead>\n",
       "    <tr style=\"text-align: right;\">\n",
       "      <th></th>\n",
       "      <th>id</th>\n",
       "      <th>keywords</th>\n",
       "    </tr>\n",
       "  </thead>\n",
       "  <tbody>\n",
       "    <tr>\n",
       "      <th>6672</th>\n",
       "      <td>485705aa-35b8-492b-8978-37284955927e</td>\n",
       "      <td>['Clothing', 'SERVICES', 'OPENING', 'LOCATION'...</td>\n",
       "    </tr>\n",
       "    <tr>\n",
       "      <th>1670</th>\n",
       "      <td>b8a9361d-a59d-4f57-8282-035aba73c3ea</td>\n",
       "      <td>['Equipment', '19/11/2016', 'ARTICLESMORE', 'C...</td>\n",
       "    </tr>\n",
       "    <tr>\n",
       "      <th>4445</th>\n",
       "      <td>8fc4d25e-bbef-4a14-82c7-e79e73ea0dfd</td>\n",
       "      <td>['Turbines', 'County', 'Independent', 'Natural...</td>\n",
       "    </tr>\n",
       "    <tr>\n",
       "      <th>141</th>\n",
       "      <td>60f435ea-6827-4b22-9340-c70a8bf1cda4</td>\n",
       "      <td>['charge total amount', 'payable alternative a...</td>\n",
       "    </tr>\n",
       "    <tr>\n",
       "      <th>8552</th>\n",
       "      <td>69ff1ffa-5b26-4cea-a0a9-9c771f484452</td>\n",
       "      <td>['September']</td>\n",
       "    </tr>\n",
       "    <tr>\n",
       "      <th>6578</th>\n",
       "      <td>18e07718-002c-4729-958d-fca5e973c15b</td>\n",
       "      <td>['followers', 'Twitter?', 'Twitter']</td>\n",
       "    </tr>\n",
       "    <tr>\n",
       "      <th>5460</th>\n",
       "      <td>09ee9da0-89be-4adf-9f05-11d6907363f5</td>\n",
       "      <td>['Archives', 'Display', 'Related', 'navigation...</td>\n",
       "    </tr>\n",
       "    <tr>\n",
       "      <th>9366</th>\n",
       "      <td>87be0c6a-d3a0-4416-bc1e-c599a1818bf3</td>\n",
       "      <td>['Encourage', 'November', 'Results', '/portkem...</td>\n",
       "    </tr>\n",
       "    <tr>\n",
       "      <th>9745</th>\n",
       "      <td>d134fe16-5f37-4962-87d6-37166a73df4e</td>\n",
       "      <td>['Telephone:', 'Angling', 'Yachting']</td>\n",
       "    </tr>\n",
       "    <tr>\n",
       "      <th>7032</th>\n",
       "      <td>8166111e-bc5b-4997-99a6-2623730323e1</td>\n",
       "      <td>['Newsletter', 'Description:', 'T-Shirt', 'Rev...</td>\n",
       "    </tr>\n",
       "  </tbody>\n",
       "</table>\n",
       "</div>"
      ],
      "text/plain": [
       "                                        id  \\\n",
       "6672  485705aa-35b8-492b-8978-37284955927e   \n",
       "1670  b8a9361d-a59d-4f57-8282-035aba73c3ea   \n",
       "4445  8fc4d25e-bbef-4a14-82c7-e79e73ea0dfd   \n",
       "141   60f435ea-6827-4b22-9340-c70a8bf1cda4   \n",
       "8552  69ff1ffa-5b26-4cea-a0a9-9c771f484452   \n",
       "6578  18e07718-002c-4729-958d-fca5e973c15b   \n",
       "5460  09ee9da0-89be-4adf-9f05-11d6907363f5   \n",
       "9366  87be0c6a-d3a0-4416-bc1e-c599a1818bf3   \n",
       "9745  d134fe16-5f37-4962-87d6-37166a73df4e   \n",
       "7032  8166111e-bc5b-4997-99a6-2623730323e1   \n",
       "\n",
       "                                               keywords  \n",
       "6672  ['Clothing', 'SERVICES', 'OPENING', 'LOCATION'...  \n",
       "1670  ['Equipment', '19/11/2016', 'ARTICLESMORE', 'C...  \n",
       "4445  ['Turbines', 'County', 'Independent', 'Natural...  \n",
       "141   ['charge total amount', 'payable alternative a...  \n",
       "8552                                      ['September']  \n",
       "6578               ['followers', 'Twitter?', 'Twitter']  \n",
       "5460  ['Archives', 'Display', 'Related', 'navigation...  \n",
       "9366  ['Encourage', 'November', 'Results', '/portkem...  \n",
       "9745              ['Telephone:', 'Angling', 'Yachting']  \n",
       "7032  ['Newsletter', 'Description:', 'T-Shirt', 'Rev...  "
      ]
     },
     "execution_count": 4,
     "metadata": {},
     "output_type": "execute_result"
    }
   ],
   "source": [
    "import pandas as pd\n",
    "\n",
    "# Build a dataframe out of the records, taking only the uuid and keywords per record\n",
    "df = pd.DataFrame(records, columns=['uuid', 'keywords'])\n",
    "\n",
    "# Let's just rename the `uuid` column to `id`\n",
    "df.rename(columns={'uuid': 'id'}, inplace=True)\n",
    "\n",
    "# Replace NaN's with empty string\n",
    "df.fillna('', inplace=True)\n",
    "\n",
    "# Make sure the keywords column is of string data type\n",
    "df['keywords'] = df['keywords'].astype(str)\n",
    "\n",
    "# Show a sample of the dataframe\n",
    "df.sample(10)"
   ]
  },
  {
   "cell_type": "markdown",
   "metadata": {},
   "source": [
    "Nowv we need to create a tokenize method to extract individual words (remove punctuation, stopwords, etc).\n",
    "\n",
    "The `tokenize()` function that we create below is used by built-in vectorization classes from the SciKit-Learn library, as well as stopwords and punctuation libraries from the venerable NLTK (the Naural Language Took Kit)."
   ]
  },
  {
   "cell_type": "code",
   "execution_count": 5,
   "metadata": {},
   "outputs": [],
   "source": [
    "def tokenize(text):\n",
    "    # get the english stopwords\n",
    "    nltk.download('stopwords', quiet=True)\n",
    "    stopwords = nltk.corpus.stopwords.words('english')\n",
    "    # first tokenize by sentence, then by word to ensure that punctuation is caught as it's own token\n",
    "    nltk.download('punkt', quiet=True)\n",
    "    tokens = [word.lower() for sent in nltk.sent_tokenize(text) for word in nltk.wordpunct_tokenize(sent)]\n",
    "    filtered_tokens = []\n",
    "    # filter out any tokens not containing letters (e.g., numeric tokens, raw punctuation)\n",
    "    for token in tokens:\n",
    "        # include only those that contains letters\n",
    "        if re.search('[a-zA-Z]', token):\n",
    "            # exclude stop words, those shorter than 3 characters, and those that\n",
    "            # start with non-alphanumeric characters\n",
    "            if token not in stopwords and len(token) > 2 and token[0].isalnum():\n",
    "                filtered_tokens.append(token)\n",
    "    return filtered_tokens"
   ]
  },
  {
   "cell_type": "markdown",
   "metadata": {},
   "source": [
    "### Feature Extraction\n",
    "\n",
    "We will use a vectorizer called TF-IDF (Term-Frequency times Inverse Document-Frequency).\n",
    "\n",
    "The tokenization method above converts extracted text into a feature array. We need this to feed for our algorithm that determines salient features by comparing the frequencies of these features across different documents.\n",
    "\n",
    "Read more here: http://scikit-learn.org/stable/modules/feature_extraction.html#tfidf-term-weighting"
   ]
  },
  {
   "cell_type": "code",
   "execution_count": 6,
   "metadata": {},
   "outputs": [],
   "source": [
    "from sklearn.feature_extraction.text import TfidfVectorizer\n",
    "import nltk\n",
    "import re\n",
    "\n",
    "# Note: We have limited the max_features to 100000 here for faster processing\n",
    "vectorizer = TfidfVectorizer(\n",
    "    max_features=100000,\n",
    "    stop_words='english',\n",
    "    use_idf=True,\n",
    "    tokenizer=tokenize)\n",
    "\n",
    "feature_matrix = vectorizer.fit_transform(df['keywords'])\n",
    "feature_names = vectorizer.get_feature_names()"
   ]
  },
  {
   "cell_type": "markdown",
   "metadata": {},
   "source": [
    "### Clustering\n",
    "\n",
    "For a simple demonstration, we use one of the fastest clustering algorithms available -- namely, k-means clustering."
   ]
  },
  {
   "cell_type": "code",
   "execution_count": 7,
   "metadata": {
    "scrolled": false
   },
   "outputs": [
    {
     "data": {
      "text/html": [
       "<div>\n",
       "<style>\n",
       "    .dataframe thead tr:only-child th {\n",
       "        text-align: right;\n",
       "    }\n",
       "\n",
       "    .dataframe thead th {\n",
       "        text-align: left;\n",
       "    }\n",
       "\n",
       "    .dataframe tbody tr th {\n",
       "        vertical-align: top;\n",
       "    }\n",
       "</style>\n",
       "<table border=\"1\" class=\"dataframe\">\n",
       "  <thead>\n",
       "    <tr style=\"text-align: right;\">\n",
       "      <th></th>\n",
       "      <th>id</th>\n",
       "      <th>cluster</th>\n",
       "    </tr>\n",
       "  </thead>\n",
       "  <tbody>\n",
       "    <tr>\n",
       "      <th>9393</th>\n",
       "      <td>9ec802e2-1c0b-41ac-ac34-5201ca1e62c9</td>\n",
       "      <td>2</td>\n",
       "    </tr>\n",
       "    <tr>\n",
       "      <th>5075</th>\n",
       "      <td>27df15ae-9486-4bc4-8b5f-beed9db7a9b6</td>\n",
       "      <td>2</td>\n",
       "    </tr>\n",
       "    <tr>\n",
       "      <th>6554</th>\n",
       "      <td>cd9fcd10-224b-402f-8e91-23609d25c626</td>\n",
       "      <td>2</td>\n",
       "    </tr>\n",
       "    <tr>\n",
       "      <th>8682</th>\n",
       "      <td>a25216cb-eba7-47cd-b05f-28cefda547b9</td>\n",
       "      <td>2</td>\n",
       "    </tr>\n",
       "    <tr>\n",
       "      <th>9897</th>\n",
       "      <td>5cb595ad-439a-4cef-9b96-b00fd8ed8121</td>\n",
       "      <td>2</td>\n",
       "    </tr>\n",
       "    <tr>\n",
       "      <th>2703</th>\n",
       "      <td>fc78bdcc-cffb-4a61-9715-521d32b6b076</td>\n",
       "      <td>2</td>\n",
       "    </tr>\n",
       "    <tr>\n",
       "      <th>6125</th>\n",
       "      <td>460ebaa0-a30a-4bae-8052-8dc9486c14a9</td>\n",
       "      <td>2</td>\n",
       "    </tr>\n",
       "    <tr>\n",
       "      <th>4088</th>\n",
       "      <td>b0332f54-513d-4828-8f73-0c8e6a2c817d</td>\n",
       "      <td>2</td>\n",
       "    </tr>\n",
       "    <tr>\n",
       "      <th>4702</th>\n",
       "      <td>bd23f2ae-8184-486f-9a2a-7b61dd6a39a0</td>\n",
       "      <td>2</td>\n",
       "    </tr>\n",
       "    <tr>\n",
       "      <th>4957</th>\n",
       "      <td>a903167c-ec64-43c4-875d-4bc91a3e3e18</td>\n",
       "      <td>2</td>\n",
       "    </tr>\n",
       "  </tbody>\n",
       "</table>\n",
       "</div>"
      ],
      "text/plain": [
       "                                        id  cluster\n",
       "9393  9ec802e2-1c0b-41ac-ac34-5201ca1e62c9        2\n",
       "5075  27df15ae-9486-4bc4-8b5f-beed9db7a9b6        2\n",
       "6554  cd9fcd10-224b-402f-8e91-23609d25c626        2\n",
       "8682  a25216cb-eba7-47cd-b05f-28cefda547b9        2\n",
       "9897  5cb595ad-439a-4cef-9b96-b00fd8ed8121        2\n",
       "2703  fc78bdcc-cffb-4a61-9715-521d32b6b076        2\n",
       "6125  460ebaa0-a30a-4bae-8052-8dc9486c14a9        2\n",
       "4088  b0332f54-513d-4828-8f73-0c8e6a2c817d        2\n",
       "4702  bd23f2ae-8184-486f-9a2a-7b61dd6a39a0        2\n",
       "4957  a903167c-ec64-43c4-875d-4bc91a3e3e18        2"
      ]
     },
     "execution_count": 7,
     "metadata": {},
     "output_type": "execute_result"
    }
   ],
   "source": [
    "from sklearn.cluster import KMeans\n",
    "\n",
    "# Execute the k-means clustering\n",
    "nclusters = 3 # Split into 3 clusters\n",
    "km = KMeans(n_clusters=nclusters)\n",
    "km.fit(feature_matrix)\n",
    "\n",
    "# Create a dataframe out of the formed clusters\n",
    "clusters = km.labels_.tolist()\n",
    "docs = { 'id': df['id'], 'cluster': clusters }\n",
    "clusters_df = pd.DataFrame(docs, columns = ['id', 'cluster'])\n",
    "\n",
    "# Show a sample of the result of the clustering\n",
    "clusters_df.sample(10)"
   ]
  },
  {
   "cell_type": "markdown",
   "metadata": {},
   "source": [
    "To get the keywords/terms per cluster, we need to extract the k-means clustering object from the indices of terms that compose each cluster. In order to get the top defining terms, we reverse the ordering so we get the closest term to the cluster center as the first element in the list. These steps are accomplished in a single of code below."
   ]
  },
  {
   "cell_type": "code",
   "execution_count": 8,
   "metadata": {},
   "outputs": [],
   "source": [
    "order_centroids = km.cluster_centers_.argsort()[:, ::-1]"
   ]
  },
  {
   "cell_type": "code",
   "execution_count": 9,
   "metadata": {},
   "outputs": [
    {
     "name": "stdout",
     "output_type": "stream",
     "text": [
      "Cluster #0\n",
      "easy, nameclassifier, udt, author, phase, status, class, proposed, advanced, project, notes, modified, connection, appears, version, type, direction, generalization, complexity, priority \n",
      "\n",
      "Cluster #1\n",
      "september, coupons, coupon, similar, comments, essendon, warehouse, magazine, watches, business, wholesale, vistaprint, vintage, writers, accessories, furniture, wedding, verizon, wireless, country \n",
      "\n",
      "Cluster #2\n",
      "related, contact, information, angling, yachting, telephone, categories, navigation, partners, newsletter, description, service, products, upcoming, archives, judonotes, twitter, education, welcome, comment \n",
      "\n"
     ]
    }
   ],
   "source": [
    "# We proceed further to get only the top 20 terms per cluster\n",
    "cluster_terms = {k: [] for k in clusters}\n",
    "for i in range(nclusters):\n",
    "    cluster_top_terms = [feature_names[x] for x in order_centroids[i, :20]]\n",
    "    cluster_terms[i] = cluster_top_terms\n",
    "\n",
    "df.reset_index(inplace=True)\n",
    "clusters_df.reset_index(inplace=True)\n",
    "\n",
    "# We fuse the raw dataframe with the clusters dataframe so get\n",
    "# a mapping of the record ID, keywords, and cluster in one dataframe\n",
    "df.set_index('id', inplace=True)\n",
    "clusters_df.set_index('id', inplace=True)\n",
    "#combined_df = df.join(clusters_df, how='outer', on='id')\n",
    "combined_df = df.merge(clusters_df)\n",
    "\n",
    "# Then from the combined dataframe we can generate a good summary\n",
    "# of the clusters with cluster number, the count of records, and their defining terms\n",
    "cdf = combined_df.groupby('cluster').agg('count')\n",
    "cdf.rename(columns={'keywords': 'count'}, inplace=True)\n",
    "cdf['keywords'] = [', '.join(cluster_terms[x]) for x in cdf.index]\n",
    "\n",
    "for i,row in cdf.iterrows():\n",
    "    print('Cluster #%s' % row.name)\n",
    "    print(row.keywords, '\\n')"
   ]
  },
  {
   "cell_type": "markdown",
   "metadata": {},
   "source": [
    "We now have three clusters defined by a collection of characteristic keywords. The keywords associated with these clusters can be used to demonstrate record auto-classification."
   ]
  },
  {
   "cell_type": "markdown",
   "metadata": {
    "collapsed": true
   },
   "source": [
    "### Saving the Clustering Results\n",
    "\n",
    "For the auto-classification step, at least the generated clusters and the vectorizer object are needed. So we need to dumpt those into file. In Python, we do that using the `pickle` package. It serializes any complex Python object/data structure that can then be loaded later on for reuse."
   ]
  },
  {
   "cell_type": "code",
   "execution_count": 10,
   "metadata": {},
   "outputs": [],
   "source": [
    "import pickle\n",
    "import os\n",
    "\n",
    "results = {\n",
    "    'vectorizer': vectorizer,\n",
    "    'features': feature_matrix,\n",
    "    'clusters': combined_df,\n",
    "    'terms': cluster_terms\n",
    "}\n",
    "\n",
    "if not os.path.exists('temp'):\n",
    "    os.mkdir('temp')\n",
    "    \n",
    "pickle.dump(results, open('temp/clusters.pkl', 'wb'))"
   ]
  },
  {
   "cell_type": "markdown",
   "metadata": {},
   "source": [
    "The above step (saving the cluster model to disk) is necessary for the next stage, building an auto-classifier based on keywords. "
   ]
  },
  {
   "cell_type": "code",
   "execution_count": null,
   "metadata": {},
   "outputs": [],
   "source": []
  }
 ],
 "metadata": {
  "kernelspec": {
   "display_name": "Python 3",
   "language": "python",
   "name": "python3"
  },
  "language_info": {
   "codemirror_mode": {
    "name": "ipython",
    "version": 3
   },
   "file_extension": ".py",
   "mimetype": "text/x-python",
   "name": "python",
   "nbconvert_exporter": "python",
   "pygments_lexer": "ipython3",
   "version": "3.5.2"
  }
 },
 "nbformat": 4,
 "nbformat_minor": 2
}
